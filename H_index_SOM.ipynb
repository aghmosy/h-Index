{
  "nbformat": 4,
  "nbformat_minor": 0,
  "metadata": {
    "colab": {
      "name": "H_index_SOM.ipynb",
      "provenance": [],
      "collapsed_sections": [
        "r9maNhdd65pB",
        "6AX0Y23PnyOI",
        "fYHJ0dd6n-d4"
      ]
    },
    "kernelspec": {
      "name": "python3",
      "display_name": "Python 3"
    }
  },
  "cells": [
    {
      "cell_type": "markdown",
      "metadata": {
        "id": "t9oX7AL3nyLm"
      },
      "source": [
        "#Self Organizing Map"
      ]
    },
    {
      "cell_type": "markdown",
      "metadata": {
        "id": "r9maNhdd65pB"
      },
      "source": [
        "##Install MiniSom Package"
      ]
    },
    {
      "cell_type": "code",
      "metadata": {
        "id": "1KB28WUso0Bj",
        "colab": {
          "base_uri": "https://localhost:8080/"
        },
        "outputId": "f88fdbf1-232e-423d-a555-6c509f7b5d21"
      },
      "source": [
        "!pip install MiniSom"
      ],
      "execution_count": null,
      "outputs": [
        {
          "output_type": "stream",
          "name": "stdout",
          "text": [
            "Collecting MiniSom\n",
            "  Downloading MiniSom-2.2.9.tar.gz (8.1 kB)\n",
            "Building wheels for collected packages: MiniSom\n",
            "  Building wheel for MiniSom (setup.py) ... \u001b[?25l\u001b[?25hdone\n",
            "  Created wheel for MiniSom: filename=MiniSom-2.2.9-py3-none-any.whl size=8594 sha256=cac64b8ed922a6f25ddc21a9b5ff3fe869b9889a9044506d085741d985f5d787\n",
            "  Stored in directory: /root/.cache/pip/wheels/3d/a1/10/f50b6f4865652eac239a2700de411c3078c27e1318320e494c\n",
            "Successfully built MiniSom\n",
            "Installing collected packages: MiniSom\n",
            "Successfully installed MiniSom-2.2.9\n"
          ]
        }
      ]
    },
    {
      "cell_type": "markdown",
      "metadata": {
        "id": "6AX0Y23PnyOI"
      },
      "source": [
        "### Importing the libraries\n"
      ]
    },
    {
      "cell_type": "code",
      "metadata": {
        "id": "gaSkOFKKBB3b"
      },
      "source": [
        "import numpy as np\n",
        "import pandas as pd\n",
        "import matplotlib.pyplot as plt\n",
        "from tabulate import tabulate"
      ],
      "execution_count": null,
      "outputs": []
    },
    {
      "cell_type": "markdown",
      "metadata": {
        "id": "SCl7ERn_n539"
      },
      "source": [
        "## Importing the dataset"
      ]
    },
    {
      "cell_type": "code",
      "metadata": {
        "id": "4hgeaN3CoRfl"
      },
      "source": [
        "dataset = pd.read_csv('Data_Set.csv')\n",
        "X = dataset.iloc[:, 6:].values \n",
        "y = dataset.iloc[:, 0].values\n",
        "h_index = dataset.iloc[:, 1].values\n",
        "g_index = dataset.iloc[:, 2].values\n",
        "num_papers = dataset.iloc[:, 3].values\n",
        "total_citation = dataset.iloc[:, 4].values\n",
        "highest_citation = dataset.iloc[:, 5].values"
      ],
      "execution_count": null,
      "outputs": []
    },
    {
      "cell_type": "code",
      "metadata": {
        "colab": {
          "base_uri": "https://localhost:8080/"
        },
        "id": "vpnFc256Ffss",
        "outputId": "6fdbd763-575a-4e2c-8aed-6889b48e43e0"
      },
      "source": [
        "print(X)"
      ],
      "execution_count": null,
      "outputs": [
        {
          "output_type": "stream",
          "name": "stdout",
          "text": [
            "[[ 2837  1105  1014 ...    -1    -1    -1]\n",
            " [12172  9582  8043 ...     0     0     0]\n",
            " [  116   103    58 ...    -1    -1    -1]\n",
            " ...\n",
            " [ 3208  1744  1281 ...     3     3     1]\n",
            " [ 2125  1861  1791 ...     3     2     1]\n",
            " [  333   297   266 ...     0     0     0]]\n"
          ]
        }
      ]
    },
    {
      "cell_type": "markdown",
      "metadata": {
        "id": "fYHJ0dd6n-d4"
      },
      "source": [
        "## Feature Scaling\n"
      ]
    },
    {
      "cell_type": "code",
      "metadata": {
        "id": "sY7JiUxwoSOd"
      },
      "source": [
        "from sklearn.preprocessing import MinMaxScaler\n",
        "sc = MinMaxScaler(feature_range = (0,1))\n",
        "X = sc.fit_transform(X)"
      ],
      "execution_count": null,
      "outputs": []
    },
    {
      "cell_type": "code",
      "metadata": {
        "colab": {
          "base_uri": "https://localhost:8080/"
        },
        "id": "dRg-LRJIwRAv",
        "outputId": "a4435dfc-bc30-4c91-8fbd-bc8eee58dbf1"
      },
      "source": [
        "print(X)"
      ],
      "execution_count": null,
      "outputs": [
        {
          "output_type": "stream",
          "name": "stdout",
          "text": [
            "[[0.10033064 0.06133004 0.07140821 ... 0.         0.         0.        ]\n",
            " [0.43221815 0.53786048 0.57233466 ... 0.11111111 0.125      0.125     ]\n",
            " [0.00359086 0.00500309 0.00327822 ... 0.         0.         0.        ]\n",
            " ...\n",
            " [0.11352082 0.09725111 0.09043615 ... 0.44444444 0.5        0.25      ]\n",
            " [0.07501689 0.10382821 0.12678164 ... 0.44444444 0.375      0.25      ]\n",
            " [0.01130586 0.01590871 0.01810148 ... 0.11111111 0.125      0.125     ]]\n"
          ]
        }
      ]
    },
    {
      "cell_type": "markdown",
      "metadata": {
        "id": "aPp-7wfNoAhR"
      },
      "source": [
        "##Training the SOM\n"
      ]
    },
    {
      "cell_type": "code",
      "metadata": {
        "id": "d23YEK-h_N23"
      },
      "source": [
        "xy = 2"
      ],
      "execution_count": null,
      "outputs": []
    },
    {
      "cell_type": "code",
      "metadata": {
        "id": "3iuAhM6ooS0k"
      },
      "source": [
        "from minisom import MiniSom\n",
        "som = MiniSom(x=xy, y=xy, input_len= 1000, sigma= 1.0, learning_rate = 0.5)\n",
        "som.random_weights_init(X)\n",
        "som.train_random(data = X, num_iteration = 5000)"
      ],
      "execution_count": null,
      "outputs": []
    },
    {
      "cell_type": "code",
      "metadata": {
        "id": "ftwK8CMoxBdN"
      },
      "source": [
        "som_out = []\n",
        "for i, x in enumerate(X):\n",
        "    w = som.winner(x)\n",
        "    som_out.append(list(w))"
      ],
      "execution_count": null,
      "outputs": []
    },
    {
      "cell_type": "code",
      "metadata": {
        "id": "UtJHqYerzkKL"
      },
      "source": [
        "som_out = np.array(som_out)"
      ],
      "execution_count": null,
      "outputs": []
    },
    {
      "cell_type": "code",
      "metadata": {
        "id": "rG4c5qUQ2E17"
      },
      "source": [
        "r_name = {}\n",
        "r_h_index = {}\n",
        "r_g_index = {}\n",
        "r_np = {}\n",
        "r_ttl_cit = {}\n",
        "r_h_cit = {}\n",
        "l = []\n",
        "for i, x in enumerate(som_out):\n",
        "  key = str(x[0]) + '_' + str(x[1])\n",
        "  if key in r_name:\n",
        "    l = r_name.get(key)\n",
        "    l.append(y[i])\n",
        "    r_name[key] = l\n",
        "  else:\n",
        "    l = [] \n",
        "    l.append(y[i])\n",
        "    r_name[key] = l \n",
        "  if key in r_h_index:\n",
        "    l = r_h_index.get(key)\n",
        "    l.append(h_index[i])\n",
        "    r_h_index[key] = l\n",
        "  else:\n",
        "    l = [] \n",
        "    l.append(h_index[i])\n",
        "    r_h_index[key] = l \n",
        "  if key in r_g_index:\n",
        "    l = r_g_index.get(key)\n",
        "    l.append(g_index[i])\n",
        "    r_g_index[key] = l\n",
        "  else:\n",
        "    l = [] \n",
        "    l.append(g_index[i])\n",
        "    r_g_index[key] = l \n",
        "  if key in r_np:\n",
        "    l = r_np.get(key)\n",
        "    l.append(num_papers[i])\n",
        "    r_np[key] = l\n",
        "  else:\n",
        "    l = [] \n",
        "    l.append(num_papers[i])\n",
        "    r_np[key] = l \n",
        "  if key in r_ttl_cit:\n",
        "    l = r_ttl_cit.get(key)\n",
        "    l.append(total_citation[i])\n",
        "    r_ttl_cit[key] = l\n",
        "  else:\n",
        "    l = [] \n",
        "    l.append(total_citation[i])\n",
        "    r_ttl_cit[key] = l \n",
        "  if key in r_h_cit:\n",
        "    l = r_h_cit.get(key)\n",
        "    l.append(highest_citation[i])\n",
        "    r_h_cit[key] = l\n",
        "  else:\n",
        "    l = [] \n",
        "    l.append(highest_citation[i])\n",
        "    r_h_cit[key] = l \n"
      ],
      "execution_count": null,
      "outputs": []
    },
    {
      "cell_type": "code",
      "metadata": {
        "colab": {
          "base_uri": "https://localhost:8080/"
        },
        "id": "kfjYjzoD3GIh",
        "outputId": "21b571f0-ff83-464b-f92c-b8b8aa5bb752"
      },
      "source": [
        "print(len(r_name.keys()))"
      ],
      "execution_count": null,
      "outputs": [
        {
          "output_type": "stream",
          "name": "stdout",
          "text": [
            "4\n"
          ]
        }
      ]
    },
    {
      "cell_type": "code",
      "metadata": {
        "id": "bf9hwT-a5KF6"
      },
      "source": [
        "avrg_hindex = {}\n",
        "for k, v in r_h_index.items():\n",
        "  avrg_hindex[k] = float(\"{:.1f}\".format(sum(v)/ float(len(v))))\n",
        "avrg_np = {}\n",
        "for k, v in r_np.items():\n",
        "  avrg_np[k] = float(\"{:.1f}\".format(sum(v)/ float(len(v))))\n",
        "avrg_highest = {}\n",
        "for k, v in r_h_cit.items():\n",
        "  avrg_highest[k] = float(\"{:.1f}\".format(sum(v)/ float(len(v))))\n",
        "avrg_total = {}\n",
        "for k, v in r_ttl_cit.items():\n",
        "  avrg_total[k] = float(\"{:.1f}\".format(sum(v)/ float(len(v))))"
      ],
      "execution_count": null,
      "outputs": []
    },
    {
      "cell_type": "code",
      "metadata": {
        "id": "Tb02NhRE7wmY"
      },
      "source": [
        "x = np.arange(xy)\n",
        "y = np.arange(xy)"
      ],
      "execution_count": null,
      "outputs": []
    },
    {
      "cell_type": "code",
      "metadata": {
        "colab": {
          "base_uri": "https://localhost:8080/",
          "height": 279
        },
        "id": "U2sLUqki7vXt",
        "outputId": "3a1aa9e3-95bb-41c7-8d24-dc46b580ad98"
      },
      "source": [
        "fig, ax = plt.subplots()\n",
        "for k , v in avrg_hindex.items():\n",
        "  i = int(k.split('_')[0])\n",
        "  j = int(k.split('_')[1])\n",
        "  ax.annotate(v, (i, j))\n",
        "ax.plot(x, y, 'w')\n",
        "#ax.plot(h_sumRed, A_Red, 'r+', label = 'Wrong Approximation')\n",
        "plt.box(False)\n",
        "plt.xlabel('X')\n",
        "plt.ylabel('Y')\n",
        "plt.xlim(-0.2,2)\n",
        "plt.savefig('avrg_hIndex'+str(xy**2)+'.pdf')\n",
        "plt.show()"
      ],
      "execution_count": null,
      "outputs": [
        {
          "output_type": "display_data",
          "data": {
            "image/png": "[encoded data removed]",
            "text/plain": [
              "<Figure size 432x288 with 1 Axes>"
            ]
          },
          "metadata": {
            "needs_background": "light"
          }
        }
      ]
    },
    {
      "cell_type": "code",
      "metadata": {
        "colab": {
          "base_uri": "https://localhost:8080/",
          "height": 278
        },
        "id": "gSL1PSkU9eOn",
        "outputId": "abd566b5-29cf-4fbb-9f05-e4e9420769de"
      },
      "source": [
        "fig, ax = plt.subplots()\n",
        "for k , v in avrg_np.items():\n",
        "  i = int(k.split('_')[0])\n",
        "  j = int(k.split('_')[1])\n",
        "  ax.annotate(v, (i, j))\n",
        "ax.plot(x, y, 'w')\n",
        "#ax.plot(h_sumRed, A_Red, 'r+', label = 'Wrong Approximation')\n",
        "plt.box(False)\n",
        "plt.xlabel('X')\n",
        "plt.ylabel('Y')\n",
        "plt.xlim(-0.2,2)\n",
        "plt.savefig('avrg_np'+str(xy**2)+'.pdf')\n",
        "plt.show()"
      ],
      "execution_count": null,
      "outputs": [
        {
          "output_type": "display_data",
          "data": {
            "image/png": "[encoded data removed]",
            "text/plain": [
              "<Figure size 432x288 with 1 Axes>"
            ]
          },
          "metadata": {
            "needs_background": "light"
          }
        }
      ]
    },
    {
      "cell_type": "code",
      "metadata": {
        "colab": {
          "base_uri": "https://localhost:8080/",
          "height": 278
        },
        "id": "q8She-Jf9yFH",
        "outputId": "59b3135e-ce28-4a0d-8b94-f52589b3d3c6"
      },
      "source": [
        "fig, ax = plt.subplots()\n",
        "for k , v in avrg_highest.items():\n",
        "  i = int(k.split('_')[0])\n",
        "  j = int(k.split('_')[1])\n",
        "  ax.annotate(v, (i, j))\n",
        "ax.plot(x, y, 'w')\n",
        "#ax.plot(h_sumRed, A_Red, 'r+', label = 'Wrong Approximation')\n",
        "plt.box(False)\n",
        "plt.xlabel('X')\n",
        "plt.ylabel('Y')\n",
        "plt.xlim(-0.2,2)\n",
        "plt.savefig('avrg_highest'+str(xy**2)+'.pdf')\n",
        "plt.show()"
      ],
      "execution_count": null,
      "outputs": [
        {
          "output_type": "display_data",
          "data": {
            "image/png": "[encoded data removed]",
            "text/plain": [
              "<Figure size 432x288 with 1 Axes>"
            ]
          },
          "metadata": {
            "needs_background": "light"
          }
        }
      ]
    },
    {
      "cell_type": "code",
      "metadata": {
        "colab": {
          "base_uri": "https://localhost:8080/",
          "height": 278
        },
        "id": "3oj3JQHL95Cp",
        "outputId": "63110b02-26f8-4665-c101-8e46151b224c"
      },
      "source": [
        "fig, ax = plt.subplots()\n",
        "for k , v in avrg_total.items():\n",
        "  i = int(k.split('_')[0])\n",
        "  j = int(k.split('_')[1])\n",
        "  ax.annotate(v, (i, j))\n",
        "ax.plot(x, y, 'w')\n",
        "#ax.plot(h_sumRed, A_Red, 'r+', label = 'Wrong Approximation')\n",
        "plt.box(False)\n",
        "plt.xlabel('X')\n",
        "plt.ylabel('Y')\n",
        "plt.xlim(-0.2,2)\n",
        "plt.savefig('avrg_total'+str(xy**2)+'.pdf')\n",
        "plt.show()"
      ],
      "execution_count": null,
      "outputs": [
        {
          "output_type": "display_data",
          "data": {
            "image/png": "[encoded data removed]",
            "text/plain": [
              "<Figure size 432x288 with 1 Axes>"
            ]
          },
          "metadata": {
            "needs_background": "light"
          }
        }
      ]
    },
    {
      "cell_type": "code",
      "metadata": {
        "colab": {
          "base_uri": "https://localhost:8080/"
        },
        "id": "mYzqTUVrt8sE",
        "outputId": "89c26cb2-a32d-49ee-8a01-34d3d5b8d05d"
      },
      "source": [
        "print(tabulate(r_h_index, headers = 'keys'))\n",
        "with open('h_index_'+str(xy**2)+'.txt', 'w') as f:\n",
        "  f.write(tabulate(r_h_index, headers = 'keys'))\n",
        "with open('g_index_'+str(xy**2)+'.txt', 'w') as f:\n",
        "  f.write(tabulate(r_g_index, headers = 'keys'))\n",
        "with open('names_'+str(xy**2)+'.txt', 'w') as f:\n",
        "  f.write(tabulate(r_name, headers = 'keys'))\n",
        "with open('numPapers_'+str(xy**2)+'.txt', 'w') as f:\n",
        "  f.write(tabulate(r_np, headers = 'keys'))\n",
        "with open('totalCit_'+str(xy**2)+'.txt', 'w') as f:\n",
        "  f.write(tabulate(r_ttl_cit, headers = 'keys'))\n",
        "with open('highestCit_'+str(xy**2)+'.txt', 'w') as f:\n",
        "  f.write(tabulate(r_h_cit, headers = 'keys'))"
      ],
      "execution_count": null,
      "outputs": [
        {
          "output_type": "stream",
          "name": "stdout",
          "text": [
            "  1_0    0_0    1_1    0_1\n",
            "-----  -----  -----  -----\n",
            "  104    281     14    148\n",
            "  118    285     16    116\n",
            "  116    236     37    127\n",
            "  102    224     59    152\n",
            "  135    251     24\n",
            "   98    262      7\n",
            "  108    255     33\n",
            "  122    294     33\n",
            "  103    233     12\n",
            "   94    288     39\n",
            "  119    242     74\n",
            "   94    178     13\n",
            "  114    279     83\n",
            "   78    215     27\n",
            "   94    243     28\n",
            "  111    225     47\n",
            "   92    260     25\n",
            "   97    236     18\n",
            "  102    207     50\n",
            "  111    236     19\n",
            "  102    165     11\n",
            "  114            18\n",
            "   95            30\n",
            "  125            46\n",
            "   82            23\n",
            "   94            68\n",
            "   97            29\n",
            "   97             9\n",
            "   97            17\n",
            "  111            18\n",
            "  114            79\n",
            "  121            61\n",
            "  105            73\n",
            "  120            19\n",
            "  111            35\n",
            "   84            25\n",
            "  124            80\n",
            "   99            32\n",
            "  120            21\n",
            "  119            11\n",
            "   67            77\n",
            "   98            21\n",
            "   87            27\n",
            "   76            20\n",
            "  114            51\n",
            "  137            28\n",
            "   78            34\n",
            "   95            60\n",
            "  109            59\n",
            "  117            19\n",
            "  125            40\n",
            "  110            32\n",
            "   95            64\n",
            "   94            12\n",
            "  105            32\n",
            "  132            25\n",
            "  105            44\n",
            "  119            32\n",
            "  106            41\n",
            "   96            79\n",
            "   96            82\n",
            "  101            27\n",
            "  107            16\n",
            "  119            16\n",
            "                 71\n",
            "                 13\n",
            "                 31\n",
            "                 12\n",
            "                 44\n",
            "                 16\n",
            "                 38\n",
            "                 41\n",
            "                 20\n",
            "                 51\n",
            "                 15\n",
            "                 32\n",
            "                 14\n",
            "                 21\n",
            "                 47\n",
            "                  7\n",
            "                 47\n",
            "                 13\n",
            "                 16\n",
            "                 38\n",
            "                 25\n",
            "                 70\n",
            "                 13\n",
            "                 19\n",
            "                 41\n",
            "                 23\n",
            "                 18\n",
            "                 89\n",
            "                 41\n",
            "                 43\n",
            "                  7\n",
            "                 37\n",
            "                 70\n",
            "                  9\n",
            "                 75\n",
            "                 22\n",
            "                 34\n",
            "                 39\n",
            "                 31\n",
            "                 32\n",
            "                 10\n",
            "                 41\n",
            "                 28\n",
            "                 13\n",
            "                 41\n",
            "                 11\n",
            "                 29\n",
            "                 42\n",
            "                 46\n",
            "                 81\n",
            "                  7\n",
            "                 21\n",
            "                 13\n",
            "                 44\n",
            "                 24\n",
            "                 19\n",
            "                 41\n",
            "                 21\n",
            "                 19\n",
            "                 15\n",
            "                 40\n",
            "                 23\n",
            "                 48\n",
            "                 19\n",
            "                 15\n",
            "                 22\n",
            "                 46\n",
            "                 23\n",
            "                 24\n",
            "                 40\n",
            "                 24\n",
            "                 30\n",
            "                 11\n",
            "                 51\n"
          ]
        }
      ]
    },
    {
      "cell_type": "code",
      "metadata": {
        "id": "XJc7FUOT7E50"
      },
      "source": [
        "df = pd.DataFrame([r_name])\n",
        "df1 = pd.DataFrame([r_h_index])\n",
        "df2 = pd.DataFrame([r_g_index])\n",
        "df.to_csv('name_'+str(xy**2)+'.csv', mode = 'w', index = False)\n",
        "df1.to_csv('h_index_'+str(xy**2)+'.csv', mode = 'w', index = False)\n",
        "df2.to_csv('g_index_'+str(xy**2)+'.csv', mode = 'w', index = False)"
      ],
      "execution_count": null,
      "outputs": []
    },
    {
      "cell_type": "code",
      "metadata": {
        "colab": {
          "base_uri": "https://localhost:8080/"
        },
        "id": "vhSBeyUV9LDd",
        "outputId": "99e2a0e9-f68a-46fb-ee65-157acd16fb75"
      },
      "source": [
        "print(df1)"
      ],
      "execution_count": null,
      "outputs": [
        {
          "output_type": "stream",
          "name": "stdout",
          "text": [
            "                         1_2              5_0  ...         6_2         6_3\n",
            "0  [104, 102, 111, 106, 101]  [281, 285, 279]  ...  [236, 207]  [152, 165]\n",
            "\n",
            "[1 rows x 45 columns]\n"
          ]
        }
      ]
    }
  ]
}